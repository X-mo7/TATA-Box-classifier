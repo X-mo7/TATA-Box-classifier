{
  "nbformat": 4,
  "nbformat_minor": 0,
  "metadata": {
    "colab": {
      "provenance": []
    },
    "kernelspec": {
      "name": "python3",
      "display_name": "Python 3"
    },
    "language_info": {
      "name": "python"
    }
  },
  "cells": [
    {
      "cell_type": "markdown",
      "source": [
        "# TATA Box Project\n",
        "\n",
        "The goal of this notebook is to build a classifier that distinguishes\n",
        "between random DNA sequences and \"promoter-like\" sequences containing a TATA box.\n",
        "\n",
        "I explore the following ideas in this project :\n",
        "- Baseline: regex search for a TATA box.\n",
        "- Model: k-mer counts + Logistic Regression.\n",
        "- Extra touch: a position feature (TATA should appear in a specific window).\n"
      ],
      "metadata": {
        "id": "f3WVJO7vcYbD"
      }
    },
    {
      "cell_type": "code",
      "source": [
        "# Setup and data generation\n",
        "\n",
        "import random\n",
        "import numpy as np\n",
        "\n",
        "from sklearn.model_selection import train_test_split\n",
        "from sklearn.feature_extraction.text import CountVectorizer\n",
        "from sklearn.linear_model import LogisticRegression\n",
        "from sklearn.metrics import accuracy_score, f1_score, roc_auc_score, average_precision_score\n",
        "\n",
        "random.seed(42)\n",
        "np.random.seed(42)\n",
        "\n",
        "ALPH = \"ACGT\"\n",
        "MOTIF = \"TATAAA\"\n",
        "L = 100       # sequence length\n",
        "N = 2000      # dataset size\n",
        "\n",
        "def random_seq(L=100):\n",
        "    return \"\".join(random.choice(ALPH) for _ in range(L))\n",
        "\n",
        "def implant_motif(seq, motif=MOTIF, p_noise=0.15):\n",
        "    \"\"\"Implant motif with some mutations (p_noise per base).\"\"\"\n",
        "    pos = random.randint(0, L - len(motif))\n",
        "    seq = list(seq)\n",
        "    for i, ch in enumerate(motif):\n",
        "        if random.random() < p_noise:\n",
        "            seq[pos+i] = random.choice([b for b in ALPH if b != ch])\n",
        "        else:\n",
        "            seq[pos+i] = ch\n",
        "    return \"\".join(seq)\n",
        "\n",
        "# dataset creation\n",
        "\n",
        "X, y = [], []\n",
        "\n",
        "# Positives: random seq + implanted motif with some noise\n",
        "for _ in range(N//2):\n",
        "    s = implant_motif(random_seq(), p_noise=0.15)\n",
        "    X.append(s); y.append(1)\n",
        "\n",
        "# Negatives: random seq, some with heavily mutated motif\n",
        "for _ in range(N//2):\n",
        "    s = random_seq()\n",
        "    if random.random() < 0.2:\n",
        "        s = implant_motif(s, p_noise=0.8)\n",
        "    X.append(s); y.append(0)\n",
        "\n",
        "X = np.array(X)\n",
        "y = np.array(y)\n",
        "\n",
        "Xtr, Xte, ytr, yte = train_test_split(X, y, test_size=0.2, stratify=y, random_state=42)\n"
      ],
      "metadata": {
        "id": "-gjM2yMVclbZ"
      },
      "execution_count": 1,
      "outputs": []
    },
    {
      "cell_type": "markdown",
      "source": [
        "### Baseline: simple motif search\n",
        "We classify as positive if the exact TATAAA motif is present with ≤1 mismatch.\n"
      ],
      "metadata": {
        "id": "eMv0vaP7c5Or"
      }
    },
    {
      "cell_type": "code",
      "source": [
        "# Baseline Regex\n",
        "\n",
        "def contains_with_mismatches(seq, motif=MOTIF, max_mm=1):\n",
        "    m = len(motif)\n",
        "    for i in range(len(seq)-m+1):\n",
        "        window = seq[i:i+m]\n",
        "        mm = sum(a!=b for a,b in zip(window, motif))\n",
        "        if mm <= max_mm:\n",
        "            return True\n",
        "    return False\n",
        "\n",
        "baseline_pred = np.array([contains_with_mismatches(s) for s in Xte], dtype=int)\n",
        "baseline_proba = baseline_pred.astype(float)\n",
        "\n",
        "print(\"Baseline Accuracy:\", accuracy_score(yte, baseline_pred))\n",
        "print(\"Baseline F1:\", f1_score(yte, baseline_pred))\n",
        "print(\"Baseline ROC-AUC:\", roc_auc_score(yte, baseline_proba))\n",
        "print(\"Baseline PR-AUC:\", average_precision_score(yte, baseline_proba))\n"
      ],
      "metadata": {
        "colab": {
          "base_uri": "https://localhost:8080/"
        },
        "id": "DfqI1aMRc6VP",
        "outputId": "c961803f-7811-4876-81a4-d257a0e5acf8"
      },
      "execution_count": 2,
      "outputs": [
        {
          "output_type": "stream",
          "name": "stdout",
          "text": [
            "Baseline Accuracy: 0.7375\n",
            "Baseline F1: 0.7640449438202247\n",
            "Baseline ROC-AUC: 0.7375\n",
            "Baseline PR-AUC: 0.6647959183673469\n"
          ]
        }
      ]
    },
    {
      "cell_type": "markdown",
      "source": [
        "### Model: k-mers + Logistic Regression\n",
        "We use character n-grams (3 to 6-mers) as features.  \n",
        "We also add a binary feature: is \"TATA\" present in a specific window (positions 25–40)\n",
        "\n",
        "---\n",
        "\n",
        "\n"
      ],
      "metadata": {
        "id": "1oyq0eDVdBWu"
      }
    },
    {
      "cell_type": "code",
      "source": [
        "from scipy.sparse import hstack, csr_matrix\n",
        "\n",
        "def has_tata_in_window(seq, sub=\"TATA\", win=(25,40)):\n",
        "    i,j = win\n",
        "    return int(sub in seq[i:j])\n",
        "\n",
        "vec = CountVectorizer(analyzer=\"char\", ngram_range=(3,6))\n",
        "Xtr_k = vec.fit_transform(Xtr)\n",
        "Xte_k = vec.transform(Xte)\n",
        "\n",
        "win_tr = np.array([has_tata_in_window(s) for s in Xtr]).reshape(-1,1)\n",
        "win_te = np.array([has_tata_in_window(s) for s in Xte]).reshape(-1,1)\n",
        "\n",
        "Xtr_all = hstack([Xtr_k, csr_matrix(win_tr)])\n",
        "Xte_all = hstack([Xte_k, csr_matrix(win_te)])\n",
        "\n",
        "clf = LogisticRegression(max_iter=5000)\n",
        "clf.fit(Xtr_all, ytr)\n",
        "\n",
        "proba = clf.predict_proba(Xte_all)[:,1]\n",
        "yhat = clf.predict(Xte_all)\n"
      ],
      "metadata": {
        "id": "CSqEwv6OdFHE"
      },
      "execution_count": 3,
      "outputs": []
    },
    {
      "cell_type": "markdown",
      "source": [
        "### Results\n",
        "\n"
      ],
      "metadata": {
        "id": "PWzGKeMZdHHN"
      }
    },
    {
      "cell_type": "code",
      "source": [
        "print(\"LogReg Accuracy:\", accuracy_score(yte, yhat))\n",
        "print(\"LogReg F1:\", f1_score(yte, yhat))\n",
        "print(\"LogReg ROC-AUC:\", roc_auc_score(yte, proba))\n",
        "print(\"LogReg PR-AUC:\", average_precision_score(yte, proba))\n"
      ],
      "metadata": {
        "colab": {
          "base_uri": "https://localhost:8080/"
        },
        "id": "JcC_EaWfdLhg",
        "outputId": "1f2d49ea-223e-4cf6-b8c7-8b23b28204f2"
      },
      "execution_count": 4,
      "outputs": [
        {
          "output_type": "stream",
          "name": "stdout",
          "text": [
            "LogReg Accuracy: 0.665\n",
            "LogReg F1: 0.6666666666666666\n",
            "LogReg ROC-AUC: 0.718125\n",
            "LogReg PR-AUC: 0.7333067247722098\n"
          ]
        }
      ]
    },
    {
      "cell_type": "markdown",
      "source": [
        "### ROC curve plot"
      ],
      "metadata": {
        "id": "VEQGEZfxdy1-"
      }
    },
    {
      "cell_type": "code",
      "source": [
        "import matplotlib.pyplot as plt\n",
        "from sklearn.metrics import roc_curve, roc_auc_score\n",
        "\n",
        "fpr, tpr, _ = roc_curve(yte, proba)\n",
        "auc = roc_auc_score(yte, proba)\n",
        "\n",
        "plt.figure()\n",
        "plt.plot(fpr, tpr, label=f\"ROC-AUC = {auc:.3f}\")\n",
        "plt.plot([0, 1], [0, 1], linestyle=\"--\")\n",
        "plt.xlabel(\"False Positive Rate\")\n",
        "plt.ylabel(\"True Positive Rate\")\n",
        "plt.title(\"ROC Curve (test set)\")\n",
        "plt.legend()\n",
        "plt.show()\n"
      ],
      "metadata": {
        "colab": {
          "base_uri": "https://localhost:8080/",
          "height": 472
        },
        "id": "usk5_jdUd250",
        "outputId": "b079bef5-df97-49d7-ec8f-7e26516ac520"
      },
      "execution_count": 5,
      "outputs": [
        {
          "output_type": "display_data",
          "data": {
            "text/plain": [
              "<Figure size 640x480 with 1 Axes>"
            ],
            "image/png": "[encoded data removed]"
          },
          "metadata": {}
        }
      ]
    },
    {
      "cell_type": "markdown",
      "source": [
        "### Precision–Recall Curve plot"
      ],
      "metadata": {
        "id": "bg3zLoS7d5c2"
      }
    },
    {
      "cell_type": "code",
      "source": [
        "from sklearn.metrics import precision_recall_curve, average_precision_score\n",
        "\n",
        "prec, rec, _ = precision_recall_curve(yte, proba)\n",
        "ap = average_precision_score(yte, proba)\n",
        "\n",
        "plt.figure()\n",
        "plt.plot(rec, prec, label=f\"PR-AUC = {ap:.3f}\")\n",
        "plt.xlabel(\"Recall\")\n",
        "plt.ylabel(\"Precision\")\n",
        "plt.title(\"Precision–Recall Curve (test set)\")\n",
        "plt.legend()\n",
        "plt.show()\n"
      ],
      "metadata": {
        "colab": {
          "base_uri": "https://localhost:8080/",
          "height": 472
        },
        "id": "Qsfuyl8fd8ZX",
        "outputId": "bbe0040e-fac3-444f-82d5-15ac0f8ed378"
      },
      "execution_count": 6,
      "outputs": [
        {
          "output_type": "display_data",
          "data": {
            "text/plain": [
              "<Figure size 640x480 with 1 Axes>"
            ],
            "image/png": "[encoded data removed]"
          },
          "metadata": {}
        }
      ]
    },
    {
      "cell_type": "markdown",
      "source": [
        "### Interpreting top k-mers"
      ],
      "metadata": {
        "id": "y8iYk4lqdRPZ"
      }
    },
    {
      "cell_type": "code",
      "source": [
        "# Map back features\n",
        "vocab = [None] * len(vec.vocabulary_)\n",
        "for kmer, idx in vec.vocabulary_.items():\n",
        "    vocab[idx] = kmer\n",
        "\n",
        "coef_all = clf.coef_.ravel()\n",
        "coef_k = coef_all[:-1]   # last one = window feature\n",
        "coef_win = coef_all[-1]\n",
        "\n",
        "top_idx = np.argsort(-coef_k)[:10]\n",
        "print(\"Window feature weight:\", coef_win)\n",
        "print(\"\\nTop k-mers (pro-promoter):\")\n",
        "for i in top_idx:\n",
        "    print(f\"{vocab[i]:<6} {coef_k[i]:+.3f}\")\n"
      ],
      "metadata": {
        "colab": {
          "base_uri": "https://localhost:8080/"
        },
        "id": "bhLYOauVdRmn",
        "outputId": "27a7609d-09f8-4206-8db5-37cd167feb58"
      },
      "execution_count": 7,
      "outputs": [
        {
          "output_type": "stream",
          "name": "stdout",
          "text": [
            "Window feature weight: 0.3707462580455534\n",
            "\n",
            "Top k-mers (pro-promoter):\n",
            "tataaa +1.861\n",
            "tataa  +1.001\n",
            "ataaa  +0.948\n",
            "tataga +0.548\n",
            "atgaat +0.538\n",
            "tatgaa +0.522\n",
            "gttata +0.510\n",
            "taatac +0.506\n",
            "taaa   +0.503\n",
            "ttatcc +0.489\n"
          ]
        }
      ]
    },
    {
      "cell_type": "markdown",
      "source": [
        "### Demo"
      ],
      "metadata": {
        "id": "aCvg1K4hdZF0"
      }
    },
    {
      "cell_type": "code",
      "source": [
        "demo = [\n",
        "    implant_motif(random_seq(), p_noise=0.0),  # perfect motif\n",
        "    implant_motif(random_seq(), p_noise=0.3),  # noisy motif\n",
        "    random_seq()                               # random\n",
        "]\n",
        "\n",
        "demo_k = vec.transform(demo)\n",
        "demo_win = np.array([has_tata_in_window(s) for s in demo]).reshape(-1,1)\n",
        "demo_all = hstack([demo_k, csr_matrix(demo_win)])\n",
        "\n",
        "print(\"Demo predictions (proba promoter-like):\")\n",
        "for s,p in zip(demo, clf.predict_proba(demo_all)[:,1]):\n",
        "    print(f\"p={p:.3f}, contains_exact_TATA={MOTIF in s}\")\n"
      ],
      "metadata": {
        "colab": {
          "base_uri": "https://localhost:8080/"
        },
        "id": "Yb2Wv6oMdaeg",
        "outputId": "33c3ce37-403e-44b5-a7ba-cad96a9b3387"
      },
      "execution_count": 8,
      "outputs": [
        {
          "output_type": "stream",
          "name": "stdout",
          "text": [
            "Demo predictions (proba promoter-like):\n",
            "p=1.000, contains_exact_TATA=True\n",
            "p=0.937, contains_exact_TATA=False\n",
            "p=0.001, contains_exact_TATA=False\n"
          ]
        }
      ]
    },
    {
      "cell_type": "markdown",
      "source": [
        "### Conclusion\n",
        "\n",
        "This project shows how:\n",
        "- A regex baseline already works if the motif is exact.\n",
        "- Logistic Regression with k-mers can capture *variants* of the motif.\n",
        "- A simple positional feature improves realism: in biology, promoter motifs\n",
        "  usually occur at specific locations.\n",
        "\n",
        "While this project is basic compared to other existing models (e.g Instadeep's Nucleotide Transformers) models, it reflects a motivation to explore AI\n",
        "applied to genomics and to learn step by step.\n"
      ],
      "metadata": {
        "id": "rMwOLfLEdcF8"
      }
    }
  ]
}